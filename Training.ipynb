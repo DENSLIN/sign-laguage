{
 "metadata": {
  "kernelspec": {
   "language": "python",
   "display_name": "Python 3",
   "name": "python3"
  },
  "language_info": {
   "name": "python",
   "version": "3.7.12",
   "mimetype": "text/x-python",
   "codemirror_mode": {
    "name": "ipython",
    "version": 3
   },
   "pygments_lexer": "ipython3",
   "nbconvert_exporter": "python",
   "file_extension": ".py"
  }
 },
 "nbformat_minor": 4,
 "nbformat": 4,
 "cells": [
  {
   "cell_type": "code",
   "source": [
    "import numpy as np\n",
    "import pandas as pd\n",
    "import matplotlib.pyplot as plt\n",
    "from tqdm import tqdm\n",
    "\n",
    "import tensorflow as tf\n",
    "from tensorflow.keras import layers\n",
    "from sklearn.model_selection import train_test_split\n",
    "\n",
    "import os\n",
    "import random\n",
    "import json\n",
    "import glob"
   ],
   "metadata": {
    "_uuid": "8f2839f25d086af736a60e9eeb907d3b93b6e0e5",
    "_cell_guid": "b1076dfc-b9ad-4769-8c92-a6c4dae69d19",
    "execution": {
     "iopub.status.busy": "2023-03-14T17:04:19.103989Z",
     "iopub.execute_input": "2023-03-14T17:04:19.104518Z",
     "iopub.status.idle": "2023-03-14T17:04:28.024025Z",
     "shell.execute_reply.started": "2023-03-14T17:04:19.104489Z",
     "shell.execute_reply": "2023-03-14T17:04:28.022876Z"
    },
    "trusted": true
   },
   "execution_count": 1,
   "outputs": []
  },
  {
   "cell_type": "code",
   "source": [
    "ROWS_PER_FRAME = 543\n",
    "data_dir = \"/kaggle/input/asl-signs\"\n",
    "landmark_fimes_dir = \"/kaggle/input/asl-signs/train_landmark_files\""
   ],
   "metadata": {
    "execution": {
     "iopub.status.busy": "2023-03-14T17:04:28.026441Z",
     "iopub.execute_input": "2023-03-14T17:04:28.027231Z",
     "iopub.status.idle": "2023-03-14T17:04:28.032583Z",
     "shell.execute_reply.started": "2023-03-14T17:04:28.027190Z",
     "shell.execute_reply": "2023-03-14T17:04:28.031139Z"
    },
    "trusted": true
   },
   "execution_count": 2,
   "outputs": []
  },
  {
   "cell_type": "code",
   "source": [
    "def seed_it_all(seed=42):\n",
    "    os.environ[\"PYTHONHASHSEED\"] = str(seed)\n",
    "    random.seed(seed)\n",
    "    np.random.seed(seed)\n",
    "    tf.random.set_seed(seed)\n",
    "\n",
    "\n",
    "seed_it_all()"
   ],
   "metadata": {
    "execution": {
     "iopub.status.busy": "2023-03-14T17:04:30.989961Z",
     "iopub.execute_input": "2023-03-14T17:04:30.990668Z",
     "iopub.status.idle": "2023-03-14T17:04:30.997135Z",
     "shell.execute_reply.started": "2023-03-14T17:04:30.990628Z",
     "shell.execute_reply": "2023-03-14T17:04:30.995997Z"
    },
    "trusted": true
   },
   "execution_count": 3,
   "outputs": []
  },
  {
   "cell_type": "code",
   "source": [
    "def load_relevant_data_subset(pq_path):\n",
    "    data_columns = [\"type\",\"x\", \"y\", \"z\"]\n",
    "    data_return=pd.DataFrame(columns=[\"xl\",\"yl\",\"zl\",\"xr\",\"yr\",\"zr\"])\n",
    "    data = pd.read_parquet(pq_path, columns=data_columns)\n",
    "    data1 = data[data.type == \"right_hand\"]\n",
    "    data2 = data[data.type == \"left_hand\"]\n",
    "    data_return[\"xr\"] = data1[\"x\"]\n",
    "    data_return[\"yr\"] = data1[\"y\"]\n",
    "    data_return[\"zr\"] = data1[\"z\"]\n",
    "    data_return[\"xl\"] = data2[\"x\"]\n",
    "    data_return[\"yl\"] = data2[\"y\"]\n",
    "    data_return[\"zl\"] = data2[\"z\"]\n",
    "    n_frames = int(len(data_return) / 21)\n",
    "    data_return = data_return.values.reshape(n_frames, 21, 6)\n",
    "    return data_return.astype(np.float32)"
   ],
   "metadata": {
    "execution": {
     "iopub.status.busy": "2023-03-14T17:04:32.597857Z",
     "iopub.execute_input": "2023-03-14T17:04:32.599129Z",
     "iopub.status.idle": "2023-03-14T17:04:32.614379Z",
     "shell.execute_reply.started": "2023-03-14T17:04:32.599057Z",
     "shell.execute_reply": "2023-03-14T17:04:32.613220Z"
    },
    "trusted": true
   },
   "execution_count": 4,
   "outputs": []
  },
  {
   "cell_type": "code",
   "source": [
    "def read_json(path):\n",
    "    with open(path, \"r\") as file:\n",
    "        json_data = json.load(file)\n",
    "    return json_data"
   ],
   "metadata": {
    "execution": {
     "iopub.status.busy": "2023-03-14T17:04:34.294900Z",
     "iopub.execute_input": "2023-03-14T17:04:34.295958Z",
     "iopub.status.idle": "2023-03-14T17:04:34.301331Z",
     "shell.execute_reply.started": "2023-03-14T17:04:34.295922Z",
     "shell.execute_reply": "2023-03-14T17:04:34.299761Z"
    },
    "trusted": true
   },
   "execution_count": 5,
   "outputs": []
  },
  {
   "cell_type": "code",
   "source": [
    "train_df = pd.read_csv(data_dir + \"/train.csv\")\n",
    "train_df[\"path\"] = data_dir + \"/\" + train_df[\"path\"]\n",
    "display(train_df)"
   ],
   "metadata": {
    "execution": {
     "iopub.status.busy": "2023-03-14T17:04:35.958547Z",
     "iopub.execute_input": "2023-03-14T17:04:35.959483Z",
     "iopub.status.idle": "2023-03-14T17:04:36.218148Z",
     "shell.execute_reply.started": "2023-03-14T17:04:35.959432Z",
     "shell.execute_reply": "2023-03-14T17:04:36.217161Z"
    },
    "trusted": true
   },
   "execution_count": 6,
   "outputs": [
    {
     "output_type": "display_data",
     "data": {
      "text/plain": "                                                    path  participant_id  \\\n0      /kaggle/input/asl-signs/train_landmark_files/2...           26734   \n1      /kaggle/input/asl-signs/train_landmark_files/2...           28656   \n2      /kaggle/input/asl-signs/train_landmark_files/1...           16069   \n3      /kaggle/input/asl-signs/train_landmark_files/2...           25571   \n4      /kaggle/input/asl-signs/train_landmark_files/6...           62590   \n...                                                  ...             ...   \n94472  /kaggle/input/asl-signs/train_landmark_files/5...           53618   \n94473  /kaggle/input/asl-signs/train_landmark_files/2...           26734   \n94474  /kaggle/input/asl-signs/train_landmark_files/2...           25571   \n94475  /kaggle/input/asl-signs/train_landmark_files/2...           29302   \n94476  /kaggle/input/asl-signs/train_landmark_files/3...           36257   \n\n       sequence_id    sign  \n0       1000035562    blow  \n1       1000106739    wait  \n2        100015657   cloud  \n3       1000210073    bird  \n4       1000240708    owie  \n...            ...     ...  \n94472    999786174   white  \n94473    999799849    have  \n94474    999833418  flower  \n94475    999895257    room  \n94476    999962374   happy  \n\n[94477 rows x 4 columns]",
      "text/html": "<div>\n<style scoped>\n    .dataframe tbody tr th:only-of-type {\n        vertical-align: middle;\n    }\n\n    .dataframe tbody tr th {\n        vertical-align: top;\n    }\n\n    .dataframe thead th {\n        text-align: right;\n    }\n</style>\n<table border=\"1\" class=\"dataframe\">\n  <thead>\n    <tr style=\"text-align: right;\">\n      <th></th>\n      <th>path</th>\n      <th>participant_id</th>\n      <th>sequence_id</th>\n      <th>sign</th>\n    </tr>\n  </thead>\n  <tbody>\n    <tr>\n      <th>0</th>\n      <td>/kaggle/input/asl-signs/train_landmark_files/2...</td>\n      <td>26734</td>\n      <td>1000035562</td>\n      <td>blow</td>\n    </tr>\n    <tr>\n      <th>1</th>\n      <td>/kaggle/input/asl-signs/train_landmark_files/2...</td>\n      <td>28656</td>\n      <td>1000106739</td>\n      <td>wait</td>\n    </tr>\n    <tr>\n      <th>2</th>\n      <td>/kaggle/input/asl-signs/train_landmark_files/1...</td>\n      <td>16069</td>\n      <td>100015657</td>\n      <td>cloud</td>\n    </tr>\n    <tr>\n      <th>3</th>\n      <td>/kaggle/input/asl-signs/train_landmark_files/2...</td>\n      <td>25571</td>\n      <td>1000210073</td>\n      <td>bird</td>\n    </tr>\n    <tr>\n      <th>4</th>\n      <td>/kaggle/input/asl-signs/train_landmark_files/6...</td>\n      <td>62590</td>\n      <td>1000240708</td>\n      <td>owie</td>\n    </tr>\n    <tr>\n      <th>...</th>\n      <td>...</td>\n      <td>...</td>\n      <td>...</td>\n      <td>...</td>\n    </tr>\n    <tr>\n      <th>94472</th>\n      <td>/kaggle/input/asl-signs/train_landmark_files/5...</td>\n      <td>53618</td>\n      <td>999786174</td>\n      <td>white</td>\n    </tr>\n    <tr>\n      <th>94473</th>\n      <td>/kaggle/input/asl-signs/train_landmark_files/2...</td>\n      <td>26734</td>\n      <td>999799849</td>\n      <td>have</td>\n    </tr>\n    <tr>\n      <th>94474</th>\n      <td>/kaggle/input/asl-signs/train_landmark_files/2...</td>\n      <td>25571</td>\n      <td>999833418</td>\n      <td>flower</td>\n    </tr>\n    <tr>\n      <th>94475</th>\n      <td>/kaggle/input/asl-signs/train_landmark_files/2...</td>\n      <td>29302</td>\n      <td>999895257</td>\n      <td>room</td>\n    </tr>\n    <tr>\n      <th>94476</th>\n      <td>/kaggle/input/asl-signs/train_landmark_files/3...</td>\n      <td>36257</td>\n      <td>999962374</td>\n      <td>happy</td>\n    </tr>\n  </tbody>\n</table>\n<p>94477 rows × 4 columns</p>\n</div>"
     },
     "metadata": {}
    }
   ]
  },
  {
   "cell_type": "code",
   "source": [
    "s2p_map = read_json(os.path.join(data_dir, \"sign_to_prediction_index_map.json\"))\n",
    "p2s_map = {v: k for k, v in s2p_map.items()}\n",
    "\n",
    "encoder = lambda x: s2p_map.get(x)\n",
    "decoder = lambda x: p2s_map.get(x)\n",
    "\n",
    "train_df[\"label\"] = train_df[\"sign\"].map(encoder)\n",
    "# print(f\"shape = {train_df.shape}\")\n",
    "# p2s_map\n",
    "# arr=train_df[\"label\"].astype(np.float32)\n",
    "\n"
   ],
   "metadata": {
    "execution": {
     "iopub.status.busy": "2023-03-14T17:42:00.705847Z",
     "iopub.execute_input": "2023-03-14T17:42:00.706244Z",
     "iopub.status.idle": "2023-03-14T17:42:00.751905Z",
     "shell.execute_reply.started": "2023-03-14T17:42:00.706207Z",
     "shell.execute_reply": "2023-03-14T17:42:00.751001Z"
    },
    "trusted": true
   },
   "execution_count": 27,
   "outputs": []
  },
  {
   "cell_type": "code",
   "source": [
    "sample_path = train_df.path[0]\n",
    "sample = pd.read_parquet(sample_path)\n",
    "\n",
    "print(f\"Sample shape = {sample.shape}\")\n",
    "print(f\"Number of Frames = {int(len(sample) / ROWS_PER_FRAME)}\")\n",
    "# ROWS_PER_FRAME = 543 i.e. one frame is represented by 543 row in our dataset, including the face, both hands and pose\n",
    "# n_frame can also be found : 20->42=>23frames i.e. sample.frame.max() -> sample.frame.min() : sample.nunique()\n",
    "\n",
    "display(sample)\n",
    "display(sample.iloc[468:489])\n",
    "display(sample.iloc[522:543])"
   ],
   "metadata": {
    "execution": {
     "iopub.status.busy": "2023-03-14T10:31:05.973142Z",
     "iopub.execute_input": "2023-03-14T10:31:05.973906Z",
     "iopub.status.idle": "2023-03-14T10:31:06.042614Z",
     "shell.execute_reply.started": "2023-03-14T10:31:05.973867Z",
     "shell.execute_reply": "2023-03-14T10:31:06.041383Z"
    },
    "trusted": true
   },
   "execution_count": 40,
   "outputs": [
    {
     "name": "stdout",
     "text": "Sample shape = (12489, 7)\nNumber of Frames = 23\n",
     "output_type": "stream"
    },
    {
     "output_type": "display_data",
     "data": {
      "text/plain": "       frame            row_id        type  landmark_index         x  \\\n0         20         20-face-0        face               0  0.494400   \n1         20         20-face-1        face               1  0.496017   \n2         20         20-face-2        face               2  0.500818   \n3         20         20-face-3        face               3  0.489788   \n4         20         20-face-4        face               4  0.495304   \n...      ...               ...         ...             ...       ...   \n12484     42  42-right_hand-16  right_hand              16  0.001660   \n12485     42  42-right_hand-17  right_hand              17  0.042694   \n12486     42  42-right_hand-18  right_hand              18  0.006723   \n12487     42  42-right_hand-19  right_hand              19 -0.014755   \n12488     42  42-right_hand-20  right_hand              20 -0.031811   \n\n              y         z  \n0      0.380470 -0.030626  \n1      0.350735 -0.057565  \n2      0.359343 -0.030283  \n3      0.321780 -0.040622  \n4      0.341821 -0.061152  \n...         ...       ...  \n12484  0.549574 -0.145409  \n12485  0.693116 -0.085307  \n12486  0.665044 -0.114017  \n12487  0.643799 -0.123488  \n12488  0.627077 -0.129067  \n\n[12489 rows x 7 columns]",
      "text/html": "<div>\n<style scoped>\n    .dataframe tbody tr th:only-of-type {\n        vertical-align: middle;\n    }\n\n    .dataframe tbody tr th {\n        vertical-align: top;\n    }\n\n    .dataframe thead th {\n        text-align: right;\n    }\n</style>\n<table border=\"1\" class=\"dataframe\">\n  <thead>\n    <tr style=\"text-align: right;\">\n      <th></th>\n      <th>frame</th>\n      <th>row_id</th>\n      <th>type</th>\n      <th>landmark_index</th>\n      <th>x</th>\n      <th>y</th>\n      <th>z</th>\n    </tr>\n  </thead>\n  <tbody>\n    <tr>\n      <th>0</th>\n      <td>20</td>\n      <td>20-face-0</td>\n      <td>face</td>\n      <td>0</td>\n      <td>0.494400</td>\n      <td>0.380470</td>\n      <td>-0.030626</td>\n    </tr>\n    <tr>\n      <th>1</th>\n      <td>20</td>\n      <td>20-face-1</td>\n      <td>face</td>\n      <td>1</td>\n      <td>0.496017</td>\n      <td>0.350735</td>\n      <td>-0.057565</td>\n    </tr>\n    <tr>\n      <th>2</th>\n      <td>20</td>\n      <td>20-face-2</td>\n      <td>face</td>\n      <td>2</td>\n      <td>0.500818</td>\n      <td>0.359343</td>\n      <td>-0.030283</td>\n    </tr>\n    <tr>\n      <th>3</th>\n      <td>20</td>\n      <td>20-face-3</td>\n      <td>face</td>\n      <td>3</td>\n      <td>0.489788</td>\n      <td>0.321780</td>\n      <td>-0.040622</td>\n    </tr>\n    <tr>\n      <th>4</th>\n      <td>20</td>\n      <td>20-face-4</td>\n      <td>face</td>\n      <td>4</td>\n      <td>0.495304</td>\n      <td>0.341821</td>\n      <td>-0.061152</td>\n    </tr>\n    <tr>\n      <th>...</th>\n      <td>...</td>\n      <td>...</td>\n      <td>...</td>\n      <td>...</td>\n      <td>...</td>\n      <td>...</td>\n      <td>...</td>\n    </tr>\n    <tr>\n      <th>12484</th>\n      <td>42</td>\n      <td>42-right_hand-16</td>\n      <td>right_hand</td>\n      <td>16</td>\n      <td>0.001660</td>\n      <td>0.549574</td>\n      <td>-0.145409</td>\n    </tr>\n    <tr>\n      <th>12485</th>\n      <td>42</td>\n      <td>42-right_hand-17</td>\n      <td>right_hand</td>\n      <td>17</td>\n      <td>0.042694</td>\n      <td>0.693116</td>\n      <td>-0.085307</td>\n    </tr>\n    <tr>\n      <th>12486</th>\n      <td>42</td>\n      <td>42-right_hand-18</td>\n      <td>right_hand</td>\n      <td>18</td>\n      <td>0.006723</td>\n      <td>0.665044</td>\n      <td>-0.114017</td>\n    </tr>\n    <tr>\n      <th>12487</th>\n      <td>42</td>\n      <td>42-right_hand-19</td>\n      <td>right_hand</td>\n      <td>19</td>\n      <td>-0.014755</td>\n      <td>0.643799</td>\n      <td>-0.123488</td>\n    </tr>\n    <tr>\n      <th>12488</th>\n      <td>42</td>\n      <td>42-right_hand-20</td>\n      <td>right_hand</td>\n      <td>20</td>\n      <td>-0.031811</td>\n      <td>0.627077</td>\n      <td>-0.129067</td>\n    </tr>\n  </tbody>\n</table>\n<p>12489 rows × 7 columns</p>\n</div>"
     },
     "metadata": {}
    },
    {
     "output_type": "display_data",
     "data": {
      "text/plain": "     frame           row_id       type  landmark_index   x   y   z\n468     20   20-left_hand-0  left_hand               0 NaN NaN NaN\n469     20   20-left_hand-1  left_hand               1 NaN NaN NaN\n470     20   20-left_hand-2  left_hand               2 NaN NaN NaN\n471     20   20-left_hand-3  left_hand               3 NaN NaN NaN\n472     20   20-left_hand-4  left_hand               4 NaN NaN NaN\n473     20   20-left_hand-5  left_hand               5 NaN NaN NaN\n474     20   20-left_hand-6  left_hand               6 NaN NaN NaN\n475     20   20-left_hand-7  left_hand               7 NaN NaN NaN\n476     20   20-left_hand-8  left_hand               8 NaN NaN NaN\n477     20   20-left_hand-9  left_hand               9 NaN NaN NaN\n478     20  20-left_hand-10  left_hand              10 NaN NaN NaN\n479     20  20-left_hand-11  left_hand              11 NaN NaN NaN\n480     20  20-left_hand-12  left_hand              12 NaN NaN NaN\n481     20  20-left_hand-13  left_hand              13 NaN NaN NaN\n482     20  20-left_hand-14  left_hand              14 NaN NaN NaN\n483     20  20-left_hand-15  left_hand              15 NaN NaN NaN\n484     20  20-left_hand-16  left_hand              16 NaN NaN NaN\n485     20  20-left_hand-17  left_hand              17 NaN NaN NaN\n486     20  20-left_hand-18  left_hand              18 NaN NaN NaN\n487     20  20-left_hand-19  left_hand              19 NaN NaN NaN\n488     20  20-left_hand-20  left_hand              20 NaN NaN NaN",
      "text/html": "<div>\n<style scoped>\n    .dataframe tbody tr th:only-of-type {\n        vertical-align: middle;\n    }\n\n    .dataframe tbody tr th {\n        vertical-align: top;\n    }\n\n    .dataframe thead th {\n        text-align: right;\n    }\n</style>\n<table border=\"1\" class=\"dataframe\">\n  <thead>\n    <tr style=\"text-align: right;\">\n      <th></th>\n      <th>frame</th>\n      <th>row_id</th>\n      <th>type</th>\n      <th>landmark_index</th>\n      <th>x</th>\n      <th>y</th>\n      <th>z</th>\n    </tr>\n  </thead>\n  <tbody>\n    <tr>\n      <th>468</th>\n      <td>20</td>\n      <td>20-left_hand-0</td>\n      <td>left_hand</td>\n      <td>0</td>\n      <td>NaN</td>\n      <td>NaN</td>\n      <td>NaN</td>\n    </tr>\n    <tr>\n      <th>469</th>\n      <td>20</td>\n      <td>20-left_hand-1</td>\n      <td>left_hand</td>\n      <td>1</td>\n      <td>NaN</td>\n      <td>NaN</td>\n      <td>NaN</td>\n    </tr>\n    <tr>\n      <th>470</th>\n      <td>20</td>\n      <td>20-left_hand-2</td>\n      <td>left_hand</td>\n      <td>2</td>\n      <td>NaN</td>\n      <td>NaN</td>\n      <td>NaN</td>\n    </tr>\n    <tr>\n      <th>471</th>\n      <td>20</td>\n      <td>20-left_hand-3</td>\n      <td>left_hand</td>\n      <td>3</td>\n      <td>NaN</td>\n      <td>NaN</td>\n      <td>NaN</td>\n    </tr>\n    <tr>\n      <th>472</th>\n      <td>20</td>\n      <td>20-left_hand-4</td>\n      <td>left_hand</td>\n      <td>4</td>\n      <td>NaN</td>\n      <td>NaN</td>\n      <td>NaN</td>\n    </tr>\n    <tr>\n      <th>473</th>\n      <td>20</td>\n      <td>20-left_hand-5</td>\n      <td>left_hand</td>\n      <td>5</td>\n      <td>NaN</td>\n      <td>NaN</td>\n      <td>NaN</td>\n    </tr>\n    <tr>\n      <th>474</th>\n      <td>20</td>\n      <td>20-left_hand-6</td>\n      <td>left_hand</td>\n      <td>6</td>\n      <td>NaN</td>\n      <td>NaN</td>\n      <td>NaN</td>\n    </tr>\n    <tr>\n      <th>475</th>\n      <td>20</td>\n      <td>20-left_hand-7</td>\n      <td>left_hand</td>\n      <td>7</td>\n      <td>NaN</td>\n      <td>NaN</td>\n      <td>NaN</td>\n    </tr>\n    <tr>\n      <th>476</th>\n      <td>20</td>\n      <td>20-left_hand-8</td>\n      <td>left_hand</td>\n      <td>8</td>\n      <td>NaN</td>\n      <td>NaN</td>\n      <td>NaN</td>\n    </tr>\n    <tr>\n      <th>477</th>\n      <td>20</td>\n      <td>20-left_hand-9</td>\n      <td>left_hand</td>\n      <td>9</td>\n      <td>NaN</td>\n      <td>NaN</td>\n      <td>NaN</td>\n    </tr>\n    <tr>\n      <th>478</th>\n      <td>20</td>\n      <td>20-left_hand-10</td>\n      <td>left_hand</td>\n      <td>10</td>\n      <td>NaN</td>\n      <td>NaN</td>\n      <td>NaN</td>\n    </tr>\n    <tr>\n      <th>479</th>\n      <td>20</td>\n      <td>20-left_hand-11</td>\n      <td>left_hand</td>\n      <td>11</td>\n      <td>NaN</td>\n      <td>NaN</td>\n      <td>NaN</td>\n    </tr>\n    <tr>\n      <th>480</th>\n      <td>20</td>\n      <td>20-left_hand-12</td>\n      <td>left_hand</td>\n      <td>12</td>\n      <td>NaN</td>\n      <td>NaN</td>\n      <td>NaN</td>\n    </tr>\n    <tr>\n      <th>481</th>\n      <td>20</td>\n      <td>20-left_hand-13</td>\n      <td>left_hand</td>\n      <td>13</td>\n      <td>NaN</td>\n      <td>NaN</td>\n      <td>NaN</td>\n    </tr>\n    <tr>\n      <th>482</th>\n      <td>20</td>\n      <td>20-left_hand-14</td>\n      <td>left_hand</td>\n      <td>14</td>\n      <td>NaN</td>\n      <td>NaN</td>\n      <td>NaN</td>\n    </tr>\n    <tr>\n      <th>483</th>\n      <td>20</td>\n      <td>20-left_hand-15</td>\n      <td>left_hand</td>\n      <td>15</td>\n      <td>NaN</td>\n      <td>NaN</td>\n      <td>NaN</td>\n    </tr>\n    <tr>\n      <th>484</th>\n      <td>20</td>\n      <td>20-left_hand-16</td>\n      <td>left_hand</td>\n      <td>16</td>\n      <td>NaN</td>\n      <td>NaN</td>\n      <td>NaN</td>\n    </tr>\n    <tr>\n      <th>485</th>\n      <td>20</td>\n      <td>20-left_hand-17</td>\n      <td>left_hand</td>\n      <td>17</td>\n      <td>NaN</td>\n      <td>NaN</td>\n      <td>NaN</td>\n    </tr>\n    <tr>\n      <th>486</th>\n      <td>20</td>\n      <td>20-left_hand-18</td>\n      <td>left_hand</td>\n      <td>18</td>\n      <td>NaN</td>\n      <td>NaN</td>\n      <td>NaN</td>\n    </tr>\n    <tr>\n      <th>487</th>\n      <td>20</td>\n      <td>20-left_hand-19</td>\n      <td>left_hand</td>\n      <td>19</td>\n      <td>NaN</td>\n      <td>NaN</td>\n      <td>NaN</td>\n    </tr>\n    <tr>\n      <th>488</th>\n      <td>20</td>\n      <td>20-left_hand-20</td>\n      <td>left_hand</td>\n      <td>20</td>\n      <td>NaN</td>\n      <td>NaN</td>\n      <td>NaN</td>\n    </tr>\n  </tbody>\n</table>\n</div>"
     },
     "metadata": {}
    },
    {
     "output_type": "display_data",
     "data": {
      "text/plain": "     frame            row_id        type  landmark_index         x         y  \\\n522     20   20-right_hand-0  right_hand               0  0.317082  0.576334   \n523     20   20-right_hand-1  right_hand               1  0.378220  0.522858   \n524     20   20-right_hand-2  right_hand               2  0.400223  0.473187   \n525     20   20-right_hand-3  right_hand               3  0.422157  0.436533   \n526     20   20-right_hand-4  right_hand               4  0.446464  0.403041   \n527     20   20-right_hand-5  right_hand               5  0.350601  0.440231   \n528     20   20-right_hand-6  right_hand               6  0.376617  0.397908   \n529     20   20-right_hand-7  right_hand               7  0.415079  0.385037   \n530     20   20-right_hand-8  right_hand               8  0.447915  0.381096   \n531     20   20-right_hand-9  right_hand               9  0.327356  0.440892   \n532     20  20-right_hand-10  right_hand              10  0.358829  0.387454   \n533     20  20-right_hand-11  right_hand              11  0.404261  0.377452   \n534     20  20-right_hand-12  right_hand              12  0.441766  0.386007   \n535     20  20-right_hand-13  right_hand              13  0.302903  0.446550   \n536     20  20-right_hand-14  right_hand              14  0.333407  0.392793   \n537     20  20-right_hand-15  right_hand              15  0.381958  0.382863   \n538     20  20-right_hand-16  right_hand              16  0.422241  0.390434   \n539     20  20-right_hand-17  right_hand              17  0.282980  0.457257   \n540     20  20-right_hand-18  right_hand              18  0.313736  0.412344   \n541     20  20-right_hand-19  right_hand              19  0.350728  0.399582   \n542     20  20-right_hand-20  right_hand              20  0.385796  0.401101   \n\n                z  \n522  2.273533e-07  \n523  2.524794e-02  \n524  3.187834e-02  \n525  2.407637e-02  \n526  1.425959e-02  \n527  6.016464e-02  \n528  4.689403e-02  \n529  2.567031e-02  \n530  1.004762e-02  \n531  2.936660e-02  \n532  8.406186e-03  \n533 -1.953843e-02  \n534 -3.671732e-02  \n535 -4.614335e-03  \n536 -2.241115e-02  \n537 -3.955540e-02  \n538 -4.938786e-02  \n539 -3.832633e-02  \n540 -5.269891e-02  \n541 -6.021732e-02  \n542 -6.471767e-02  ",
      "text/html": "<div>\n<style scoped>\n    .dataframe tbody tr th:only-of-type {\n        vertical-align: middle;\n    }\n\n    .dataframe tbody tr th {\n        vertical-align: top;\n    }\n\n    .dataframe thead th {\n        text-align: right;\n    }\n</style>\n<table border=\"1\" class=\"dataframe\">\n  <thead>\n    <tr style=\"text-align: right;\">\n      <th></th>\n      <th>frame</th>\n      <th>row_id</th>\n      <th>type</th>\n      <th>landmark_index</th>\n      <th>x</th>\n      <th>y</th>\n      <th>z</th>\n    </tr>\n  </thead>\n  <tbody>\n    <tr>\n      <th>522</th>\n      <td>20</td>\n      <td>20-right_hand-0</td>\n      <td>right_hand</td>\n      <td>0</td>\n      <td>0.317082</td>\n      <td>0.576334</td>\n      <td>2.273533e-07</td>\n    </tr>\n    <tr>\n      <th>523</th>\n      <td>20</td>\n      <td>20-right_hand-1</td>\n      <td>right_hand</td>\n      <td>1</td>\n      <td>0.378220</td>\n      <td>0.522858</td>\n      <td>2.524794e-02</td>\n    </tr>\n    <tr>\n      <th>524</th>\n      <td>20</td>\n      <td>20-right_hand-2</td>\n      <td>right_hand</td>\n      <td>2</td>\n      <td>0.400223</td>\n      <td>0.473187</td>\n      <td>3.187834e-02</td>\n    </tr>\n    <tr>\n      <th>525</th>\n      <td>20</td>\n      <td>20-right_hand-3</td>\n      <td>right_hand</td>\n      <td>3</td>\n      <td>0.422157</td>\n      <td>0.436533</td>\n      <td>2.407637e-02</td>\n    </tr>\n    <tr>\n      <th>526</th>\n      <td>20</td>\n      <td>20-right_hand-4</td>\n      <td>right_hand</td>\n      <td>4</td>\n      <td>0.446464</td>\n      <td>0.403041</td>\n      <td>1.425959e-02</td>\n    </tr>\n    <tr>\n      <th>527</th>\n      <td>20</td>\n      <td>20-right_hand-5</td>\n      <td>right_hand</td>\n      <td>5</td>\n      <td>0.350601</td>\n      <td>0.440231</td>\n      <td>6.016464e-02</td>\n    </tr>\n    <tr>\n      <th>528</th>\n      <td>20</td>\n      <td>20-right_hand-6</td>\n      <td>right_hand</td>\n      <td>6</td>\n      <td>0.376617</td>\n      <td>0.397908</td>\n      <td>4.689403e-02</td>\n    </tr>\n    <tr>\n      <th>529</th>\n      <td>20</td>\n      <td>20-right_hand-7</td>\n      <td>right_hand</td>\n      <td>7</td>\n      <td>0.415079</td>\n      <td>0.385037</td>\n      <td>2.567031e-02</td>\n    </tr>\n    <tr>\n      <th>530</th>\n      <td>20</td>\n      <td>20-right_hand-8</td>\n      <td>right_hand</td>\n      <td>8</td>\n      <td>0.447915</td>\n      <td>0.381096</td>\n      <td>1.004762e-02</td>\n    </tr>\n    <tr>\n      <th>531</th>\n      <td>20</td>\n      <td>20-right_hand-9</td>\n      <td>right_hand</td>\n      <td>9</td>\n      <td>0.327356</td>\n      <td>0.440892</td>\n      <td>2.936660e-02</td>\n    </tr>\n    <tr>\n      <th>532</th>\n      <td>20</td>\n      <td>20-right_hand-10</td>\n      <td>right_hand</td>\n      <td>10</td>\n      <td>0.358829</td>\n      <td>0.387454</td>\n      <td>8.406186e-03</td>\n    </tr>\n    <tr>\n      <th>533</th>\n      <td>20</td>\n      <td>20-right_hand-11</td>\n      <td>right_hand</td>\n      <td>11</td>\n      <td>0.404261</td>\n      <td>0.377452</td>\n      <td>-1.953843e-02</td>\n    </tr>\n    <tr>\n      <th>534</th>\n      <td>20</td>\n      <td>20-right_hand-12</td>\n      <td>right_hand</td>\n      <td>12</td>\n      <td>0.441766</td>\n      <td>0.386007</td>\n      <td>-3.671732e-02</td>\n    </tr>\n    <tr>\n      <th>535</th>\n      <td>20</td>\n      <td>20-right_hand-13</td>\n      <td>right_hand</td>\n      <td>13</td>\n      <td>0.302903</td>\n      <td>0.446550</td>\n      <td>-4.614335e-03</td>\n    </tr>\n    <tr>\n      <th>536</th>\n      <td>20</td>\n      <td>20-right_hand-14</td>\n      <td>right_hand</td>\n      <td>14</td>\n      <td>0.333407</td>\n      <td>0.392793</td>\n      <td>-2.241115e-02</td>\n    </tr>\n    <tr>\n      <th>537</th>\n      <td>20</td>\n      <td>20-right_hand-15</td>\n      <td>right_hand</td>\n      <td>15</td>\n      <td>0.381958</td>\n      <td>0.382863</td>\n      <td>-3.955540e-02</td>\n    </tr>\n    <tr>\n      <th>538</th>\n      <td>20</td>\n      <td>20-right_hand-16</td>\n      <td>right_hand</td>\n      <td>16</td>\n      <td>0.422241</td>\n      <td>0.390434</td>\n      <td>-4.938786e-02</td>\n    </tr>\n    <tr>\n      <th>539</th>\n      <td>20</td>\n      <td>20-right_hand-17</td>\n      <td>right_hand</td>\n      <td>17</td>\n      <td>0.282980</td>\n      <td>0.457257</td>\n      <td>-3.832633e-02</td>\n    </tr>\n    <tr>\n      <th>540</th>\n      <td>20</td>\n      <td>20-right_hand-18</td>\n      <td>right_hand</td>\n      <td>18</td>\n      <td>0.313736</td>\n      <td>0.412344</td>\n      <td>-5.269891e-02</td>\n    </tr>\n    <tr>\n      <th>541</th>\n      <td>20</td>\n      <td>20-right_hand-19</td>\n      <td>right_hand</td>\n      <td>19</td>\n      <td>0.350728</td>\n      <td>0.399582</td>\n      <td>-6.021732e-02</td>\n    </tr>\n    <tr>\n      <th>542</th>\n      <td>20</td>\n      <td>20-right_hand-20</td>\n      <td>right_hand</td>\n      <td>20</td>\n      <td>0.385796</td>\n      <td>0.401101</td>\n      <td>-6.471767e-02</td>\n    </tr>\n  </tbody>\n</table>\n</div>"
     },
     "metadata": {}
    }
   ]
  },
  {
   "cell_type": "code",
   "source": [
    "sample_data_np = load_relevant_data_subset(sample_path)\n",
    "print(f\"shape = {sample_data_np.shape} = (n_frames, row_per_frame, xyz) \\n\")\n",
    "sample_data_np[0]"
   ],
   "metadata": {
    "execution": {
     "iopub.status.busy": "2023-03-14T11:29:42.717083Z",
     "iopub.execute_input": "2023-03-14T11:29:42.718182Z",
     "iopub.status.idle": "2023-03-14T11:29:42.746901Z",
     "shell.execute_reply.started": "2023-03-14T11:29:42.718137Z",
     "shell.execute_reply": "2023-03-14T11:29:42.745718Z"
    },
    "trusted": true
   },
   "execution_count": 114,
   "outputs": [
    {
     "name": "stdout",
     "text": "shape = (23, 21, 6) = (n_frames, row_per_frame, xyz) \n\n",
     "output_type": "stream"
    },
    {
     "execution_count": 114,
     "output_type": "execute_result",
     "data": {
      "text/plain": "array([[           nan,            nan,            nan,  3.1708199e-01,\n         5.7633448e-01,  2.2735328e-07],\n       [           nan,            nan,            nan,  3.7822029e-01,\n         5.2285826e-01,  2.5247939e-02],\n       [           nan,            nan,            nan,  4.0022323e-01,\n         4.7318691e-01,  3.1878337e-02],\n       [           nan,            nan,            nan,  4.2215687e-01,\n         4.3653315e-01,  2.4076371e-02],\n       [           nan,            nan,            nan,  4.4646373e-01,\n         4.0304130e-01,  1.4259585e-02],\n       [           nan,            nan,            nan,  3.5060054e-01,\n         4.4023085e-01,  6.0164642e-02],\n       [           nan,            nan,            nan,  3.7661672e-01,\n         3.9790779e-01,  4.6894025e-02],\n       [           nan,            nan,            nan,  4.1507930e-01,\n         3.8503700e-01,  2.5670307e-02],\n       [           nan,            nan,            nan,  4.4791484e-01,\n         3.8109562e-01,  1.0047616e-02],\n       [           nan,            nan,            nan,  3.2735598e-01,\n         4.4089210e-01,  2.9366601e-02],\n       [           nan,            nan,            nan,  3.5882884e-01,\n         3.8745385e-01,  8.4061865e-03],\n       [           nan,            nan,            nan,  4.0426064e-01,\n         3.7745187e-01, -1.9538427e-02],\n       [           nan,            nan,            nan,  4.4176620e-01,\n         3.8600749e-01, -3.6717322e-02],\n       [           nan,            nan,            nan,  3.0290264e-01,\n         4.4654968e-01, -4.6143346e-03],\n       [           nan,            nan,            nan,  3.3340663e-01,\n         3.9279294e-01, -2.2411155e-02],\n       [           nan,            nan,            nan,  3.8195825e-01,\n         3.8286310e-01, -3.9555404e-02],\n       [           nan,            nan,            nan,  4.2224061e-01,\n         3.9043447e-01, -4.9387865e-02],\n       [           nan,            nan,            nan,  2.8298044e-01,\n         4.5725676e-01, -3.8326334e-02],\n       [           nan,            nan,            nan,  3.1373617e-01,\n         4.1234398e-01, -5.2698907e-02],\n       [           nan,            nan,            nan,  3.5072815e-01,\n         3.9958185e-01, -6.0217325e-02],\n       [           nan,            nan,            nan,  3.8579622e-01,\n         4.0110070e-01, -6.4717673e-02]], dtype=float32)"
     },
     "metadata": {}
    }
   ]
  },
  {
   "cell_type": "code",
   "source": [
    "sample_path_hand = train_df.path[5]  # 5 : empirical choice\n",
    "sample_for_hand = pd.read_parquet(sample_path_hand)\n",
    "\n",
    "print(f\"Number of Frames = {int(len(sample_for_hand) / ROWS_PER_FRAME)}\")\n",
    "print(f\"First frame indice is {sample_for_hand.frame.min()}\")\n",
    "print(f\"Last frame indice is {sample_for_hand.frame.max()}\")\n",
    "print(f\"Sample signe is : {train_df.sign[5]}\")\n",
    "\n",
    "right_hand_sample = sample_for_hand[sample_for_hand.type == \"right_hand\"]\n",
    "left_hand_sample = sample_for_hand[sample_for_hand.type == \"left_hand\"]\n",
    "right_hand_sample.head(21)"
   ],
   "metadata": {
    "execution": {
     "iopub.status.busy": "2023-03-14T14:43:40.426386Z",
     "iopub.execute_input": "2023-03-14T14:43:40.427057Z",
     "iopub.status.idle": "2023-03-14T14:43:40.530094Z",
     "shell.execute_reply.started": "2023-03-14T14:43:40.427015Z",
     "shell.execute_reply": "2023-03-14T14:43:40.528727Z"
    },
    "trusted": true
   },
   "execution_count": 186,
   "outputs": [
    {
     "name": "stdout",
     "text": "Number of Frames = 30\nFirst frame indice is 20\nLast frame indice is 49\nSample signe is : duck\n",
     "output_type": "stream"
    },
    {
     "execution_count": 186,
     "output_type": "execute_result",
     "data": {
      "text/plain": "     frame            row_id        type  landmark_index         x         y  \\\n522     20   20-right_hand-0  right_hand               0  0.255993  0.540393   \n523     20   20-right_hand-1  right_hand               1  0.320184  0.544032   \n524     20   20-right_hand-2  right_hand               2  0.385502  0.532575   \n525     20   20-right_hand-3  right_hand               3  0.437874  0.532974   \n526     20   20-right_hand-4  right_hand               4  0.484941  0.544218   \n527     20   20-right_hand-5  right_hand               5  0.405232  0.440939   \n528     20   20-right_hand-6  right_hand               6  0.440280  0.386434   \n529     20   20-right_hand-7  right_hand               7  0.458284  0.360205   \n530     20   20-right_hand-8  right_hand               8  0.474230  0.338766   \n531     20   20-right_hand-9  right_hand               9  0.356082  0.426459   \n532     20  20-right_hand-10  right_hand              10  0.400297  0.357369   \n533     20  20-right_hand-11  right_hand              11  0.433726  0.338788   \n534     20  20-right_hand-12  right_hand              12  0.458590  0.332228   \n535     20  20-right_hand-13  right_hand              13  0.296265  0.428326   \n536     20  20-right_hand-14  right_hand              14  0.322814  0.424175   \n537     20  20-right_hand-15  right_hand              15  0.325657  0.477330   \n538     20  20-right_hand-16  right_hand              16  0.324440  0.519296   \n539     20  20-right_hand-17  right_hand              17  0.234739  0.438162   \n540     20  20-right_hand-18  right_hand              18  0.252393  0.436276   \n541     20  20-right_hand-19  right_hand              19  0.255919  0.465444   \n542     20  20-right_hand-20  right_hand              20  0.253118  0.490255   \n\n                z  \n522  7.167730e-07  \n523 -4.895598e-02  \n524 -8.121844e-02  \n525 -1.135144e-01  \n526 -1.464274e-01  \n527 -6.005625e-02  \n528 -1.016259e-01  \n529 -1.214742e-01  \n530 -1.289929e-01  \n531 -6.341226e-02  \n532 -1.128234e-01  \n533 -1.336453e-01  \n534 -1.352264e-01  \n535 -7.149888e-02  \n536 -1.357873e-01  \n537 -1.476760e-01  \n538 -1.324829e-01  \n539 -8.219520e-02  \n540 -1.212632e-01  \n541 -1.190781e-01  \n542 -1.048953e-01  ",
      "text/html": "<div>\n<style scoped>\n    .dataframe tbody tr th:only-of-type {\n        vertical-align: middle;\n    }\n\n    .dataframe tbody tr th {\n        vertical-align: top;\n    }\n\n    .dataframe thead th {\n        text-align: right;\n    }\n</style>\n<table border=\"1\" class=\"dataframe\">\n  <thead>\n    <tr style=\"text-align: right;\">\n      <th></th>\n      <th>frame</th>\n      <th>row_id</th>\n      <th>type</th>\n      <th>landmark_index</th>\n      <th>x</th>\n      <th>y</th>\n      <th>z</th>\n    </tr>\n  </thead>\n  <tbody>\n    <tr>\n      <th>522</th>\n      <td>20</td>\n      <td>20-right_hand-0</td>\n      <td>right_hand</td>\n      <td>0</td>\n      <td>0.255993</td>\n      <td>0.540393</td>\n      <td>7.167730e-07</td>\n    </tr>\n    <tr>\n      <th>523</th>\n      <td>20</td>\n      <td>20-right_hand-1</td>\n      <td>right_hand</td>\n      <td>1</td>\n      <td>0.320184</td>\n      <td>0.544032</td>\n      <td>-4.895598e-02</td>\n    </tr>\n    <tr>\n      <th>524</th>\n      <td>20</td>\n      <td>20-right_hand-2</td>\n      <td>right_hand</td>\n      <td>2</td>\n      <td>0.385502</td>\n      <td>0.532575</td>\n      <td>-8.121844e-02</td>\n    </tr>\n    <tr>\n      <th>525</th>\n      <td>20</td>\n      <td>20-right_hand-3</td>\n      <td>right_hand</td>\n      <td>3</td>\n      <td>0.437874</td>\n      <td>0.532974</td>\n      <td>-1.135144e-01</td>\n    </tr>\n    <tr>\n      <th>526</th>\n      <td>20</td>\n      <td>20-right_hand-4</td>\n      <td>right_hand</td>\n      <td>4</td>\n      <td>0.484941</td>\n      <td>0.544218</td>\n      <td>-1.464274e-01</td>\n    </tr>\n    <tr>\n      <th>527</th>\n      <td>20</td>\n      <td>20-right_hand-5</td>\n      <td>right_hand</td>\n      <td>5</td>\n      <td>0.405232</td>\n      <td>0.440939</td>\n      <td>-6.005625e-02</td>\n    </tr>\n    <tr>\n      <th>528</th>\n      <td>20</td>\n      <td>20-right_hand-6</td>\n      <td>right_hand</td>\n      <td>6</td>\n      <td>0.440280</td>\n      <td>0.386434</td>\n      <td>-1.016259e-01</td>\n    </tr>\n    <tr>\n      <th>529</th>\n      <td>20</td>\n      <td>20-right_hand-7</td>\n      <td>right_hand</td>\n      <td>7</td>\n      <td>0.458284</td>\n      <td>0.360205</td>\n      <td>-1.214742e-01</td>\n    </tr>\n    <tr>\n      <th>530</th>\n      <td>20</td>\n      <td>20-right_hand-8</td>\n      <td>right_hand</td>\n      <td>8</td>\n      <td>0.474230</td>\n      <td>0.338766</td>\n      <td>-1.289929e-01</td>\n    </tr>\n    <tr>\n      <th>531</th>\n      <td>20</td>\n      <td>20-right_hand-9</td>\n      <td>right_hand</td>\n      <td>9</td>\n      <td>0.356082</td>\n      <td>0.426459</td>\n      <td>-6.341226e-02</td>\n    </tr>\n    <tr>\n      <th>532</th>\n      <td>20</td>\n      <td>20-right_hand-10</td>\n      <td>right_hand</td>\n      <td>10</td>\n      <td>0.400297</td>\n      <td>0.357369</td>\n      <td>-1.128234e-01</td>\n    </tr>\n    <tr>\n      <th>533</th>\n      <td>20</td>\n      <td>20-right_hand-11</td>\n      <td>right_hand</td>\n      <td>11</td>\n      <td>0.433726</td>\n      <td>0.338788</td>\n      <td>-1.336453e-01</td>\n    </tr>\n    <tr>\n      <th>534</th>\n      <td>20</td>\n      <td>20-right_hand-12</td>\n      <td>right_hand</td>\n      <td>12</td>\n      <td>0.458590</td>\n      <td>0.332228</td>\n      <td>-1.352264e-01</td>\n    </tr>\n    <tr>\n      <th>535</th>\n      <td>20</td>\n      <td>20-right_hand-13</td>\n      <td>right_hand</td>\n      <td>13</td>\n      <td>0.296265</td>\n      <td>0.428326</td>\n      <td>-7.149888e-02</td>\n    </tr>\n    <tr>\n      <th>536</th>\n      <td>20</td>\n      <td>20-right_hand-14</td>\n      <td>right_hand</td>\n      <td>14</td>\n      <td>0.322814</td>\n      <td>0.424175</td>\n      <td>-1.357873e-01</td>\n    </tr>\n    <tr>\n      <th>537</th>\n      <td>20</td>\n      <td>20-right_hand-15</td>\n      <td>right_hand</td>\n      <td>15</td>\n      <td>0.325657</td>\n      <td>0.477330</td>\n      <td>-1.476760e-01</td>\n    </tr>\n    <tr>\n      <th>538</th>\n      <td>20</td>\n      <td>20-right_hand-16</td>\n      <td>right_hand</td>\n      <td>16</td>\n      <td>0.324440</td>\n      <td>0.519296</td>\n      <td>-1.324829e-01</td>\n    </tr>\n    <tr>\n      <th>539</th>\n      <td>20</td>\n      <td>20-right_hand-17</td>\n      <td>right_hand</td>\n      <td>17</td>\n      <td>0.234739</td>\n      <td>0.438162</td>\n      <td>-8.219520e-02</td>\n    </tr>\n    <tr>\n      <th>540</th>\n      <td>20</td>\n      <td>20-right_hand-18</td>\n      <td>right_hand</td>\n      <td>18</td>\n      <td>0.252393</td>\n      <td>0.436276</td>\n      <td>-1.212632e-01</td>\n    </tr>\n    <tr>\n      <th>541</th>\n      <td>20</td>\n      <td>20-right_hand-19</td>\n      <td>right_hand</td>\n      <td>19</td>\n      <td>0.255919</td>\n      <td>0.465444</td>\n      <td>-1.190781e-01</td>\n    </tr>\n    <tr>\n      <th>542</th>\n      <td>20</td>\n      <td>20-right_hand-20</td>\n      <td>right_hand</td>\n      <td>20</td>\n      <td>0.253118</td>\n      <td>0.490255</td>\n      <td>-1.048953e-01</td>\n    </tr>\n  </tbody>\n</table>\n</div>"
     },
     "metadata": {}
    }
   ]
  },
  {
   "cell_type": "code",
   "source": [
    "class FeatureGen(tf.keras.layers.Layer):\n",
    "    def __init__(self):\n",
    "        super().__init__()\n",
    "\n",
    "    def call(self, x):\n",
    "        x = tf.where(tf.math.is_nan(x), tf.zeros_like(x), x)\n",
    "        x = np.mean(x, axis=0)\n",
    "        return x\n",
    "\n",
    "\n",
    "feature_converter = FeatureGen()"
   ],
   "metadata": {
    "execution": {
     "iopub.status.busy": "2023-03-14T10:41:35.477038Z",
     "iopub.execute_input": "2023-03-14T10:41:35.477721Z",
     "iopub.status.idle": "2023-03-14T10:41:35.524973Z",
     "shell.execute_reply.started": "2023-03-14T10:41:35.477683Z",
     "shell.execute_reply": "2023-03-14T10:41:35.523950Z"
    },
    "trusted": true
   },
   "execution_count": 48,
   "outputs": []
  },
  {
   "cell_type": "code",
   "source": [
    "data_lenght_experiment = len(train_df)\n",
    "data_lenght_experiment"
   ],
   "metadata": {
    "execution": {
     "iopub.status.busy": "2023-03-14T11:30:34.550654Z",
     "iopub.execute_input": "2023-03-14T11:30:34.551155Z",
     "iopub.status.idle": "2023-03-14T11:30:34.559749Z",
     "shell.execute_reply.started": "2023-03-14T11:30:34.551116Z",
     "shell.execute_reply": "2023-03-14T11:30:34.558188Z"
    },
    "trusted": true
   },
   "execution_count": 115,
   "outputs": [
    {
     "execution_count": 115,
     "output_type": "execute_result",
     "data": {
      "text/plain": "94477"
     },
     "metadata": {}
    }
   ]
  },
  {
   "cell_type": "code",
   "source": [
    "def convert_row(row):\n",
    "    x = load_relevant_data_subset(os.path.join(\"/kaggle/input/asl-signs\", row.path))\n",
    "    x = feature_converter(x)\n",
    "    return x, row.label\n",
    "def convert_and_save_data():\n",
    "    np_features = np.zeros((data_lenght_experiment, 21, 6))\n",
    "    np_labels = np.zeros(data_lenght_experiment)\n",
    "\n",
    "    print(f\"Total data to processe : {data_lenght_experiment}\")\n",
    "    for index, row in tqdm(train_df.iterrows()):\n",
    "        if index > data_lenght_experiment - 1:\n",
    "            break\n",
    "\n",
    "        data = load_relevant_data_subset(row.path)\n",
    "        feature, label = convert_row(row)\n",
    "        np_features[index, :, :] = feature\n",
    "        np_labels[index] = label\n",
    "\n",
    "    np.save(\"features.npy\", np_features)\n",
    "    np.save(\"labels.npy\", np_labels)"
   ],
   "metadata": {
    "execution": {
     "iopub.status.busy": "2023-03-14T11:44:25.055383Z",
     "iopub.execute_input": "2023-03-14T11:44:25.056148Z",
     "iopub.status.idle": "2023-03-14T11:44:25.063907Z",
     "shell.execute_reply.started": "2023-03-14T11:44:25.056107Z",
     "shell.execute_reply": "2023-03-14T11:44:25.062724Z"
    },
    "trusted": true
   },
   "execution_count": 137,
   "outputs": []
  },
  {
   "cell_type": "code",
   "source": [],
   "metadata": {},
   "execution_count": null,
   "outputs": []
  },
  {
   "cell_type": "code",
   "source": [],
   "metadata": {},
   "execution_count": null,
   "outputs": []
  },
  {
   "cell_type": "code",
   "source": [
    "try:\n",
    "    features = np.load(\"/kaggle/working/feature.npy\")\n",
    "    labels = np.load(\"/kaggle/working/label.npy\")\n",
    "except:\n",
    "    convert_and_save_data()"
   ],
   "metadata": {
    "execution": {
     "iopub.status.busy": "2023-03-14T11:44:28.191778Z",
     "iopub.execute_input": "2023-03-14T11:44:28.192174Z",
     "iopub.status.idle": "2023-03-14T12:55:36.911715Z",
     "shell.execute_reply.started": "2023-03-14T11:44:28.192141Z",
     "shell.execute_reply": "2023-03-14T12:55:36.908986Z"
    },
    "trusted": true
   },
   "execution_count": 138,
   "outputs": [
    {
     "name": "stdout",
     "text": "Total data to processe : 94477\n",
     "output_type": "stream"
    },
    {
     "name": "stderr",
     "text": "94477it [1:11:08, 22.13it/s]\n",
     "output_type": "stream"
    }
   ]
  },
  {
   "cell_type": "code",
   "source": [
    "!ls /kaggle"
   ],
   "metadata": {
    "execution": {
     "iopub.status.busy": "2023-03-14T13:08:11.234419Z",
     "iopub.execute_input": "2023-03-14T13:08:11.235489Z",
     "iopub.status.idle": "2023-03-14T13:08:12.254082Z",
     "shell.execute_reply.started": "2023-03-14T13:08:11.235445Z",
     "shell.execute_reply": "2023-03-14T13:08:12.252782Z"
    },
    "trusted": true
   },
   "execution_count": 148,
   "outputs": [
    {
     "name": "stdout",
     "text": "input  lib  working\n",
     "output_type": "stream"
    }
   ]
  },
  {
   "cell_type": "code",
   "source": [
    "features = np.load(\"features.npy\")\n",
    "labels = np.load(\"labels.npy\")"
   ],
   "metadata": {
    "execution": {
     "iopub.status.busy": "2023-03-14T13:25:34.552489Z",
     "iopub.execute_input": "2023-03-14T13:25:34.553009Z",
     "iopub.status.idle": "2023-03-14T13:25:35.377480Z",
     "shell.execute_reply.started": "2023-03-14T13:25:34.552964Z",
     "shell.execute_reply": "2023-03-14T13:25:35.376454Z"
    },
    "trusted": true
   },
   "execution_count": 154,
   "outputs": [
    {
     "execution_count": 154,
     "output_type": "execute_result",
     "data": {
      "text/plain": "array([ 25., 232.,  48., ...,  86., 188., 105.])"
     },
     "metadata": {}
    }
   ]
  },
  {
   "cell_type": "code",
   "source": [
    "def get_model(n_labels=250, learning_rate=0.001):\n",
    "    inputs = layers.Input(shape=(21,6))\n",
    "    x = layers.Flatten()(inputs)\n",
    "    x = layers.Dense(320, activation=\"relu\")(x)\n",
    "    x = tf.keras.layers.BatchNormalization()(x)\n",
    "    x = tf.keras.layers.Activation(\"relu\")(x)\n",
    "    x = tf.keras.layers.Dropout(0.2)(x)\n",
    "    x = layers.Dense(290, activation=\"relu\")(x)\n",
    "    x = tf.keras.layers.BatchNormalization()(x)\n",
    "    x = tf.keras.layers.Activation(\"relu\")(x)\n",
    "    x = tf.keras.layers.Dropout(0.6)(x)\n",
    "    x = layers.Dense(264, activation=\"relu\")(x)\n",
    "    x = tf.keras.layers.BatchNormalization()(x)\n",
    "    x = tf.keras.layers.Activation(\"relu\")(x)\n",
    "    x = tf.keras.layers.Dropout(0.2)(x)\n",
    "#     x = layers.Dense(250, activation=\"relu\")(x)\n",
    "    # x = layers.Dense(8, activation=\"relu\")(x)\n",
    "    x = layers.Flatten()(x)\n",
    "    output = layers.Dense(n_labels, activation=\"softmax\")(x)\n",
    "    model = tf.keras.Model(inputs=inputs, outputs=output)\n",
    "\n",
    "    model.compile(\n",
    "        loss=\"sparse_categorical_crossentropy\",\n",
    "        optimizer=tf.keras.optimizers.Adam(learning_rate=learning_rate),\n",
    "        metrics=[\"accuracy\"],\n",
    "    )\n",
    "\n",
    "    return model"
   ],
   "metadata": {
    "execution": {
     "iopub.status.busy": "2023-03-14T13:45:30.272564Z",
     "iopub.execute_input": "2023-03-14T13:45:30.273132Z",
     "iopub.status.idle": "2023-03-14T13:45:30.291459Z",
     "shell.execute_reply.started": "2023-03-14T13:45:30.273088Z",
     "shell.execute_reply": "2023-03-14T13:45:30.290133Z"
    },
    "trusted": true
   },
   "execution_count": 173,
   "outputs": []
  },
  {
   "cell_type": "code",
   "source": [
    "es_callback = tf.keras.callbacks.EarlyStopping(\n",
    "    monitor=\"val_loss\", patience=3, restore_best_weights=True\n",
    ")\n",
    "\n",
    "checkpoint_callback = tf.keras.callbacks.ModelCheckpoint(\n",
    "    \"./ASL_model\",\n",
    "    save_best_only=True,\n",
    "    restore_best_weights=True,\n",
    "    monitor=\"val_accuracy\",\n",
    "    mode=\"max\",\n",
    "    verbose=False,\n",
    ")\n",
    "\n",
    "cb_list = [checkpoint_callback]\n",
    "\n",
    "X_train, X_val, y_train, y_val = train_test_split(\n",
    "    features, labels, test_size=0.2, stratify=labels, random_state=42\n",
    ")\n",
    "\n",
    "model = get_model()\n",
    "model.summary()"
   ],
   "metadata": {
    "execution": {
     "iopub.status.busy": "2023-03-14T13:45:32.875830Z",
     "iopub.execute_input": "2023-03-14T13:45:32.876205Z",
     "iopub.status.idle": "2023-03-14T13:45:33.114265Z",
     "shell.execute_reply.started": "2023-03-14T13:45:32.876171Z",
     "shell.execute_reply": "2023-03-14T13:45:33.113414Z"
    },
    "trusted": true
   },
   "execution_count": 174,
   "outputs": [
    {
     "name": "stdout",
     "text": "Model: \"model_5\"\n_________________________________________________________________\n Layer (type)                Output Shape              Param #   \n=================================================================\n input_7 (InputLayer)        [(None, 21, 6)]           0         \n                                                                 \n flatten_6 (Flatten)         (None, 126)               0         \n                                                                 \n dense_17 (Dense)            (None, 320)               40640     \n                                                                 \n batch_normalization_12 (Bat  (None, 320)              1280      \n chNormalization)                                                \n                                                                 \n activation_12 (Activation)  (None, 320)               0         \n                                                                 \n dropout_12 (Dropout)        (None, 320)               0         \n                                                                 \n dense_18 (Dense)            (None, 290)               93090     \n                                                                 \n batch_normalization_13 (Bat  (None, 290)              1160      \n chNormalization)                                                \n                                                                 \n activation_13 (Activation)  (None, 290)               0         \n                                                                 \n dropout_13 (Dropout)        (None, 290)               0         \n                                                                 \n dense_19 (Dense)            (None, 264)               76824     \n                                                                 \n batch_normalization_14 (Bat  (None, 264)              1056      \n chNormalization)                                                \n                                                                 \n activation_14 (Activation)  (None, 264)               0         \n                                                                 \n dropout_14 (Dropout)        (None, 264)               0         \n                                                                 \n flatten_7 (Flatten)         (None, 264)               0         \n                                                                 \n dense_20 (Dense)            (None, 250)               66250     \n                                                                 \n=================================================================\nTotal params: 280,300\nTrainable params: 278,552\nNon-trainable params: 1,748\n_________________________________________________________________\n",
     "output_type": "stream"
    }
   ]
  },
  {
   "cell_type": "code",
   "source": [
    "try:\n",
    "    model = tf.keras.models.load_model(\"./ASL_mode\")\n",
    "except:\n",
    "    history = model.fit(\n",
    "        features,\n",
    "        labels,\n",
    "        validation_data=(X_val, y_val),\n",
    "        epochs=50,\n",
    "        callbacks=cb_list,\n",
    "        batch_size=64,\n",
    "    )"
   ],
   "metadata": {
    "execution": {
     "iopub.status.busy": "2023-03-14T14:18:06.629083Z",
     "iopub.execute_input": "2023-03-14T14:18:06.629905Z",
     "iopub.status.idle": "2023-03-14T14:28:30.801008Z",
     "shell.execute_reply.started": "2023-03-14T14:18:06.629860Z",
     "shell.execute_reply": "2023-03-14T14:28:30.799458Z"
    },
    "trusted": true
   },
   "execution_count": 185,
   "outputs": [
    {
     "name": "stdout",
     "text": "Epoch 1/50\n1477/1477 [==============================] - 15s 8ms/step - loss: 3.9608 - accuracy: 0.1796 - val_loss: 3.7349 - val_accuracy: 0.2360\nEpoch 2/50\n1477/1477 [==============================] - 13s 9ms/step - loss: 3.9594 - accuracy: 0.1799 - val_loss: 3.7103 - val_accuracy: 0.2450\nEpoch 3/50\n1477/1477 [==============================] - 12s 8ms/step - loss: 3.9543 - accuracy: 0.1813 - val_loss: 3.7412 - val_accuracy: 0.2308\nEpoch 4/50\n1477/1477 [==============================] - 15s 10ms/step - loss: 3.9503 - accuracy: 0.1816 - val_loss: 3.6881 - val_accuracy: 0.2457\nEpoch 5/50\n1477/1477 [==============================] - 14s 10ms/step - loss: 3.9435 - accuracy: 0.1812 - val_loss: 3.6983 - val_accuracy: 0.2472\nEpoch 6/50\n1477/1477 [==============================] - 11s 8ms/step - loss: 3.9450 - accuracy: 0.1818 - val_loss: 3.6895 - val_accuracy: 0.2426\nEpoch 7/50\n1477/1477 [==============================] - 13s 9ms/step - loss: 3.9347 - accuracy: 0.1836 - val_loss: 3.6501 - val_accuracy: 0.2529\nEpoch 8/50\n1477/1477 [==============================] - 12s 8ms/step - loss: 3.9274 - accuracy: 0.1843 - val_loss: 3.7137 - val_accuracy: 0.2335\nEpoch 9/50\n1477/1477 [==============================] - 14s 9ms/step - loss: 3.9318 - accuracy: 0.1852 - val_loss: 3.6441 - val_accuracy: 0.2630\nEpoch 10/50\n1477/1477 [==============================] - 11s 8ms/step - loss: 3.9234 - accuracy: 0.1858 - val_loss: 3.6670 - val_accuracy: 0.2510\nEpoch 11/50\n1477/1477 [==============================] - 12s 8ms/step - loss: 3.9243 - accuracy: 0.1862 - val_loss: 3.6524 - val_accuracy: 0.2530\nEpoch 12/50\n1477/1477 [==============================] - 11s 7ms/step - loss: 3.9170 - accuracy: 0.1882 - val_loss: 3.6300 - val_accuracy: 0.2565\nEpoch 13/50\n1477/1477 [==============================] - 12s 8ms/step - loss: 3.9145 - accuracy: 0.1884 - val_loss: 3.6955 - val_accuracy: 0.2402\nEpoch 14/50\n1477/1477 [==============================] - 11s 8ms/step - loss: 3.9082 - accuracy: 0.1900 - val_loss: 3.6090 - val_accuracy: 0.2592\nEpoch 15/50\n1477/1477 [==============================] - 11s 7ms/step - loss: 3.9158 - accuracy: 0.1896 - val_loss: 3.6917 - val_accuracy: 0.2485\nEpoch 16/50\n1477/1477 [==============================] - 12s 8ms/step - loss: 3.9228 - accuracy: 0.1879 - val_loss: 3.6584 - val_accuracy: 0.2527\nEpoch 17/50\n1477/1477 [==============================] - 11s 7ms/step - loss: 3.9060 - accuracy: 0.1901 - val_loss: 3.6365 - val_accuracy: 0.2551\nEpoch 18/50\n1477/1477 [==============================] - 11s 8ms/step - loss: 3.9006 - accuracy: 0.1918 - val_loss: 3.6562 - val_accuracy: 0.2470\nEpoch 19/50\n1477/1477 [==============================] - 12s 8ms/step - loss: 3.8993 - accuracy: 0.1927 - val_loss: 3.6597 - val_accuracy: 0.2491\nEpoch 20/50\n1477/1477 [==============================] - 11s 8ms/step - loss: 3.8997 - accuracy: 0.1907 - val_loss: 3.6337 - val_accuracy: 0.2593\nEpoch 21/50\n1477/1477 [==============================] - 11s 8ms/step - loss: 3.8956 - accuracy: 0.1913 - val_loss: 3.6328 - val_accuracy: 0.2524\nEpoch 22/50\n1477/1477 [==============================] - 12s 8ms/step - loss: 3.8968 - accuracy: 0.1913 - val_loss: 3.6424 - val_accuracy: 0.2546\nEpoch 23/50\n1477/1477 [==============================] - 14s 9ms/step - loss: 3.8955 - accuracy: 0.1916 - val_loss: 3.5868 - val_accuracy: 0.2670\nEpoch 24/50\n1477/1477 [==============================] - 12s 8ms/step - loss: 3.8904 - accuracy: 0.1909 - val_loss: 3.6017 - val_accuracy: 0.2633\nEpoch 25/50\n1477/1477 [==============================] - 11s 7ms/step - loss: 3.8881 - accuracy: 0.1926 - val_loss: 3.6219 - val_accuracy: 0.2575\nEpoch 26/50\n1477/1477 [==============================] - 11s 8ms/step - loss: 3.8910 - accuracy: 0.1920 - val_loss: 3.6273 - val_accuracy: 0.2598\nEpoch 27/50\n1477/1477 [==============================] - 11s 8ms/step - loss: 3.8874 - accuracy: 0.1928 - val_loss: 3.5946 - val_accuracy: 0.2643\nEpoch 28/50\n1477/1477 [==============================] - 11s 8ms/step - loss: 3.8858 - accuracy: 0.1944 - val_loss: 3.6209 - val_accuracy: 0.2574\nEpoch 29/50\n1477/1477 [==============================] - 14s 10ms/step - loss: 3.8818 - accuracy: 0.1945 - val_loss: 3.5551 - val_accuracy: 0.2731\nEpoch 30/50\n1477/1477 [==============================] - 12s 8ms/step - loss: 3.8831 - accuracy: 0.1932 - val_loss: 3.5770 - val_accuracy: 0.2667\nEpoch 31/50\n1477/1477 [==============================] - 11s 8ms/step - loss: 3.8772 - accuracy: 0.1949 - val_loss: 3.5720 - val_accuracy: 0.2695\nEpoch 32/50\n1477/1477 [==============================] - 11s 8ms/step - loss: 3.8802 - accuracy: 0.1935 - val_loss: 3.5743 - val_accuracy: 0.2727\nEpoch 33/50\n1477/1477 [==============================] - 11s 7ms/step - loss: 3.8794 - accuracy: 0.1949 - val_loss: 3.5823 - val_accuracy: 0.2696\nEpoch 34/50\n1477/1477 [==============================] - 14s 10ms/step - loss: 3.8751 - accuracy: 0.1946 - val_loss: 3.5550 - val_accuracy: 0.2743\nEpoch 35/50\n1477/1477 [==============================] - 12s 8ms/step - loss: 3.8767 - accuracy: 0.1951 - val_loss: 3.5787 - val_accuracy: 0.2697\nEpoch 36/50\n1477/1477 [==============================] - 11s 8ms/step - loss: 3.8777 - accuracy: 0.1950 - val_loss: 3.5932 - val_accuracy: 0.2668\nEpoch 37/50\n1477/1477 [==============================] - 12s 8ms/step - loss: 3.8774 - accuracy: 0.1954 - val_loss: 3.5862 - val_accuracy: 0.2619\nEpoch 38/50\n1477/1477 [==============================] - 11s 8ms/step - loss: 3.8722 - accuracy: 0.1969 - val_loss: 3.5950 - val_accuracy: 0.2648\nEpoch 39/50\n1477/1477 [==============================] - 11s 8ms/step - loss: 3.8676 - accuracy: 0.1964 - val_loss: 3.5977 - val_accuracy: 0.2719\nEpoch 40/50\n1477/1477 [==============================] - 14s 10ms/step - loss: 3.8685 - accuracy: 0.1964 - val_loss: 3.5369 - val_accuracy: 0.2752\nEpoch 41/50\n1477/1477 [==============================] - 12s 8ms/step - loss: 3.8728 - accuracy: 0.1951 - val_loss: 3.5882 - val_accuracy: 0.2650\nEpoch 42/50\n1477/1477 [==============================] - 12s 8ms/step - loss: 3.8636 - accuracy: 0.1981 - val_loss: 3.5680 - val_accuracy: 0.2715\nEpoch 43/50\n1477/1477 [==============================] - 11s 7ms/step - loss: 3.8712 - accuracy: 0.1968 - val_loss: 3.5842 - val_accuracy: 0.2677\nEpoch 44/50\n1477/1477 [==============================] - 13s 9ms/step - loss: 3.8631 - accuracy: 0.1982 - val_loss: 3.5542 - val_accuracy: 0.2795\nEpoch 45/50\n1477/1477 [==============================] - 14s 9ms/step - loss: 3.8566 - accuracy: 0.1991 - val_loss: 3.5262 - val_accuracy: 0.2833\nEpoch 46/50\n1477/1477 [==============================] - 11s 7ms/step - loss: 3.8605 - accuracy: 0.1992 - val_loss: 3.5688 - val_accuracy: 0.2678\nEpoch 47/50\n1477/1477 [==============================] - 12s 8ms/step - loss: 3.8611 - accuracy: 0.1985 - val_loss: 3.5636 - val_accuracy: 0.2701\nEpoch 48/50\n1477/1477 [==============================] - 12s 8ms/step - loss: 3.8587 - accuracy: 0.1992 - val_loss: 3.5169 - val_accuracy: 0.2789\nEpoch 49/50\n1477/1477 [==============================] - 11s 7ms/step - loss: 3.8561 - accuracy: 0.1999 - val_loss: 3.5423 - val_accuracy: 0.2761\nEpoch 50/50\n1477/1477 [==============================] - 12s 8ms/step - loss: 3.8548 - accuracy: 0.1995 - val_loss: 3.5162 - val_accuracy: 0.2810\n",
     "output_type": "stream"
    }
   ]
  },
  {
   "cell_type": "code",
   "source": [
    "model = tf.keras.models.load_model(\"./ASL_model\")\n",
    "score = model.evaluate(X_val, y_val)"
   ],
   "metadata": {
    "execution": {
     "iopub.status.busy": "2023-03-14T14:04:40.985275Z",
     "iopub.execute_input": "2023-03-14T14:04:40.986495Z",
     "iopub.status.idle": "2023-03-14T14:04:45.052673Z",
     "shell.execute_reply.started": "2023-03-14T14:04:40.986449Z",
     "shell.execute_reply": "2023-03-14T14:04:45.051547Z"
    },
    "trusted": true
   },
   "execution_count": 176,
   "outputs": [
    {
     "name": "stdout",
     "text": "591/591 [==============================] - 2s 4ms/step - loss: 3.7322 - accuracy: 0.2401\n",
     "output_type": "stream"
    }
   ]
  },
  {
   "cell_type": "code",
   "source": [
    "def get_inference_model(model):\n",
    "    inputs = tf.keras.Input((21, 6), dtype=tf.float32, name=\"inputs\")\n",
    "    x = tf.where(tf.math.is_nan(inputs), tf.zeros_like(inputs), inputs)\n",
    "    x = tf.reduce_mean(x, axis=0, keepdims=True)\n",
    "    x = model(x)\n",
    "    output = tf.keras.layers.Activation(activation=\"linear\", name=\"outputs\")(x)\n",
    "    inference_model = tf.keras.Model(inputs=inputs, outputs=output)\n",
    "    inference_model.compile(\n",
    "        loss=tf.keras.losses.SparseCategoricalCrossentropy(), metrics=[\"accuracy\"]\n",
    "    )\n",
    "    return inference_model"
   ],
   "metadata": {
    "execution": {
     "iopub.status.busy": "2023-03-14T14:05:31.462708Z",
     "iopub.execute_input": "2023-03-14T14:05:31.463698Z",
     "iopub.status.idle": "2023-03-14T14:05:31.471851Z",
     "shell.execute_reply.started": "2023-03-14T14:05:31.463643Z",
     "shell.execute_reply": "2023-03-14T14:05:31.470686Z"
    },
    "trusted": true
   },
   "execution_count": 177,
   "outputs": []
  },
  {
   "cell_type": "code",
   "source": [
    "inference_model = get_inference_model(model)\n",
    "inference_model.summary()"
   ],
   "metadata": {
    "execution": {
     "iopub.status.busy": "2023-03-14T14:05:36.753822Z",
     "iopub.execute_input": "2023-03-14T14:05:36.754875Z",
     "iopub.status.idle": "2023-03-14T14:05:36.865339Z",
     "shell.execute_reply.started": "2023-03-14T14:05:36.754833Z",
     "shell.execute_reply": "2023-03-14T14:05:36.864368Z"
    },
    "trusted": true
   },
   "execution_count": 178,
   "outputs": [
    {
     "name": "stdout",
     "text": "Model: \"model_6\"\n__________________________________________________________________________________________________\n Layer (type)                   Output Shape         Param #     Connected to                     \n==================================================================================================\n inputs (InputLayer)            [(None, 21, 6)]      0           []                               \n                                                                                                  \n tf.math.is_nan_2 (TFOpLambda)  (None, 21, 6)        0           ['inputs[0][0]']                 \n                                                                                                  \n tf.zeros_like_2 (TFOpLambda)   (None, 21, 6)        0           ['inputs[0][0]']                 \n                                                                                                  \n tf.where_2 (TFOpLambda)        (None, 21, 6)        0           ['tf.math.is_nan_2[0][0]',       \n                                                                  'tf.zeros_like_2[0][0]',        \n                                                                  'inputs[0][0]']                 \n                                                                                                  \n tf.math.reduce_mean_2 (TFOpLam  (1, 21, 6)          0           ['tf.where_2[0][0]']             \n bda)                                                                                             \n                                                                                                  \n model_5 (Functional)           (None, 250)          280300      ['tf.math.reduce_mean_2[0][0]']  \n                                                                                                  \n outputs (Activation)           (1, 250)             0           ['model_5[0][0]']                \n                                                                                                  \n==================================================================================================\nTotal params: 280,300\nTrainable params: 278,552\nNon-trainable params: 1,748\n__________________________________________________________________________________________________\n",
     "output_type": "stream"
    }
   ]
  },
  {
   "cell_type": "code",
   "source": [
    "converter = tf.lite.TFLiteConverter.from_keras_model(inference_model)\n",
    "tflite_model = converter.convert()\n",
    "model_path = \"model.tflite\"\n",
    "# Save the model.\n",
    "with open(model_path, \"wb\") as f:\n",
    "    f.write(tflite_model)"
   ],
   "metadata": {
    "execution": {
     "iopub.status.busy": "2023-03-14T14:09:03.595001Z",
     "iopub.execute_input": "2023-03-14T14:09:03.595478Z",
     "iopub.status.idle": "2023-03-14T14:09:07.790548Z",
     "shell.execute_reply.started": "2023-03-14T14:09:03.595437Z",
     "shell.execute_reply": "2023-03-14T14:09:07.789347Z"
    },
    "trusted": true
   },
   "execution_count": 182,
   "outputs": []
  },
  {
   "cell_type": "code",
   "source": [
    "!ls /kaggle/working/model.tflite"
   ],
   "metadata": {
    "execution": {
     "iopub.status.busy": "2023-03-14T14:09:24.045968Z",
     "iopub.execute_input": "2023-03-14T14:09:24.046446Z",
     "iopub.status.idle": "2023-03-14T14:09:25.134798Z",
     "shell.execute_reply.started": "2023-03-14T14:09:24.046406Z",
     "shell.execute_reply": "2023-03-14T14:09:25.133455Z"
    },
    "trusted": true
   },
   "execution_count": 184,
   "outputs": [
    {
     "name": "stdout",
     "text": "/kaggle/working/model.tflite\n",
     "output_type": "stream"
    }
   ]
  },
  {
   "cell_type": "code",
   "source": [
    "model.save(\"mask_detector.model\", save_format=\"h5\")"
   ],
   "metadata": {
    "execution": {
     "iopub.status.busy": "2023-03-14T14:06:42.813214Z",
     "iopub.execute_input": "2023-03-14T14:06:42.814249Z",
     "iopub.status.idle": "2023-03-14T14:06:42.894726Z",
     "shell.execute_reply.started": "2023-03-14T14:06:42.814196Z",
     "shell.execute_reply": "2023-03-14T14:06:42.893559Z"
    },
    "trusted": true
   },
   "execution_count": 180,
   "outputs": []
  }
 ]
}
